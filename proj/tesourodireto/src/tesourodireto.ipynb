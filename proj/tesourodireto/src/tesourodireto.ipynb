{
 "cells": [
  {
   "cell_type": "code",
   "execution_count": 6,
   "id": "2ef8fd14",
   "metadata": {},
   "outputs": [],
   "source": [
    "import unittest\n",
    "from selenium import webdriver\n",
    "from selenium.webdriver.common.by import By\n",
    "from selenium.webdriver.support.ui import WebDriverWait\n",
    "from selenium.webdriver.support import expected_conditions as EC"
   ]
  },
  {
   "cell_type": "code",
   "execution_count": 2,
   "id": "e96e46dc",
   "metadata": {},
   "outputs": [],
   "source": [
    "chrome_options = webdriver.ChromeOptions()\n",
    "chrome_options.add_argument('--no-sandbox')\n",
    "#chrome_options.add_argument('--headless')\n",
    "chrome_options.add_argument('--disable-gpu')\n",
    "chrome_options.add_argument('--disable-dev-shm-usage')\n",
    "chrome_options.add_argument(\"--window-size=1920,1080\")\n",
    "driver = webdriver.Chrome(options=chrome_options)\n",
    "#driver.implicitly_wait(10)"
   ]
  },
  {
   "cell_type": "code",
   "execution_count": 7,
   "id": "b7593aad",
   "metadata": {},
   "outputs": [],
   "source": [
    "wait = WebDriverWait(driver, 10)"
   ]
  },
  {
   "cell_type": "code",
   "execution_count": 27,
   "id": "a288fa7f",
   "metadata": {},
   "outputs": [],
   "source": [
    "driver.get('https://portalinvestidor.tesourodireto.com.br/')"
   ]
  },
  {
   "cell_type": "markdown",
   "id": "615a96df",
   "metadata": {},
   "source": [
    "## Login"
   ]
  },
  {
   "cell_type": "code",
   "execution_count": 10,
   "id": "1e8852af",
   "metadata": {},
   "outputs": [],
   "source": [
    "#wait.until(EC.visibility_of_element_located((By.CSS_SELECTOR, '#onetrust-accept-btn-handler'))).click()"
   ]
  },
  {
   "cell_type": "code",
   "execution_count": 28,
   "id": "d4877be7",
   "metadata": {},
   "outputs": [],
   "source": [
    "wait.until(EC.visibility_of_element_located((By.CSS_SELECTOR, '#login-cpf'))).send_keys('452.845.582-00')"
   ]
  },
  {
   "cell_type": "code",
   "execution_count": 29,
   "id": "fdcb648f",
   "metadata": {},
   "outputs": [],
   "source": [
    "wait.until(EC.visibility_of_element_located((By.CSS_SELECTOR, '#btnContinuar'))).click()"
   ]
  },
  {
   "cell_type": "code",
   "execution_count": 18,
   "id": "d2793b96",
   "metadata": {},
   "outputs": [],
   "source": [
    "wait.until(EC.visibility_of_element_located((By.CSS_SELECTOR, '#login-senha'))).send_keys('mypassword')"
   ]
  },
  {
   "cell_type": "code",
   "execution_count": 19,
   "id": "d4964756",
   "metadata": {},
   "outputs": [],
   "source": [
    "wait.until(EC.visibility_of_element_located((By.CSS_SELECTOR, '#btnEntrar'))).click()"
   ]
  }
 ],
 "metadata": {
  "kernelspec": {
   "display_name": "Python 3 (ipykernel)",
   "language": "python",
   "name": "python3"
  },
  "language_info": {
   "codemirror_mode": {
    "name": "ipython",
    "version": 3
   },
   "file_extension": ".py",
   "mimetype": "text/x-python",
   "name": "python",
   "nbconvert_exporter": "python",
   "pygments_lexer": "ipython3",
   "version": "3.8.10"
  }
 },
 "nbformat": 4,
 "nbformat_minor": 5
}
