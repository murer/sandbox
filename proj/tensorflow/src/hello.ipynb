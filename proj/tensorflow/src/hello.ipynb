{
 "cells": [
  {
   "cell_type": "code",
   "execution_count": 1,
   "id": "24ec1a48",
   "metadata": {},
   "outputs": [],
   "source": [
    "import tensorflow as tf\n",
    "#import pandas as pd\n",
    "#import numpy as np\n",
    "from random import randrange\n",
    "#np.set_printoptions(precision=4)"
   ]
  },
  {
   "cell_type": "code",
   "execution_count": 14,
   "id": "ed678d72",
   "metadata": {},
   "outputs": [
    {
     "data": {
      "text/plain": [
       "[[232, 118, 114],\n",
       " [868, 42, 826],\n",
       " [664, 558, 106],\n",
       " [331, 261, 70],\n",
       " [639, 183, 456],\n",
       " [755, 627, 128],\n",
       " [999, 752, 247],\n",
       " [1542, 773, 769],\n",
       " [1085, 404, 681],\n",
       " [931, 336, 595],\n",
       " [880, 812, 68],\n",
       " [1053, 797, 256],\n",
       " [282, 210, 72],\n",
       " [1111, 787, 324],\n",
       " [1541, 930, 611],\n",
       " [824, 714, 110],\n",
       " [989, 215, 774],\n",
       " [1267, 852, 415],\n",
       " [1112, 778, 334],\n",
       " [174, 112, 62]]"
      ]
     },
     "execution_count": 14,
     "metadata": {},
     "output_type": "execute_result"
    }
   ],
   "source": [
    "tdata = []\n",
    "for k in range(20):\n",
    "    a = randrange(1000)\n",
    "    b = randrange(1000)\n",
    "    tdata.append([a+b, a, b])\n",
    "tdata"
   ]
  },
  {
   "cell_type": "code",
   "execution_count": 2,
   "id": "2b781eb1",
   "metadata": {},
   "outputs": [],
   "source": [
    "tdata = [[232, 118, 114],\n",
    " [868, 42, 826],\n",
    " [664, 558, 106],\n",
    " [331, 261, 70],\n",
    " [639, 183, 456],\n",
    " [755, 627, 128],\n",
    " [999, 752, 247],\n",
    " [1542, 773, 769],\n",
    " [1085, 404, 681],\n",
    " [931, 336, 595],\n",
    " [880, 812, 68],\n",
    " [1053, 797, 256],\n",
    " [282, 210, 72],\n",
    " [1111, 787, 324],\n",
    " [1541, 930, 611],\n",
    " [824, 714, 110],\n",
    " [989, 215, 774],\n",
    " [1267, 852, 415],\n",
    " [1112, 778, 334],\n",
    " [174, 112, 62]]"
   ]
  },
  {
   "cell_type": "code",
   "execution_count": 6,
   "id": "6512c845",
   "metadata": {},
   "outputs": [
    {
     "data": {
      "text/plain": [
       "<keras.engine.sequential.Sequential at 0x7fe03af0ca90>"
      ]
     },
     "execution_count": 6,
     "metadata": {},
     "output_type": "execute_result"
    }
   ],
   "source": [
    "model = tf.keras.Sequential()\n",
    "model.add(tf.keras.layers.Dense(5, activation='relu', input_shape=(784,)))\n",
    "model.add(tf.keras.layers.Dense(5, activation='relu'))\n",
    "#model.add(Dropout(dropout))\n",
    "model.add(tf.keras.layers.Dense(1, activation='softmax'))\n",
    "model.compile()\n",
    "model"
   ]
  }
 ],
 "metadata": {
  "kernelspec": {
   "display_name": "Python 3 (ipykernel)",
   "language": "python",
   "name": "python3"
  },
  "language_info": {
   "codemirror_mode": {
    "name": "ipython",
    "version": 3
   },
   "file_extension": ".py",
   "mimetype": "text/x-python",
   "name": "python",
   "nbconvert_exporter": "python",
   "pygments_lexer": "ipython3",
   "version": "3.8.10"
  }
 },
 "nbformat": 4,
 "nbformat_minor": 5
}
